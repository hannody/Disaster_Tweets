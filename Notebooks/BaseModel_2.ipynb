{
 "cells": [
  {
   "cell_type": "code",
   "execution_count": 1,
   "metadata": {},
   "outputs": [],
   "source": [
    "import pandas as pd\n",
    "import numpy as np\n",
    "import re\n",
    "\n",
    "import nltk\n",
    "from nltk.corpus import stopwords\n",
    "from nltk.tokenize import word_tokenize as wtoken\n",
    "from nltk.stem import PorterStemmer\n",
    "from nltk.corpus import stopwords\n",
    "from nltk.stem import WordNetLemmatizer \n",
    "\n",
    "import tensorflow as tf\n",
    "from numpy import array\n",
    "from tensorflow.keras.preprocessing.text import one_hot\n",
    "from tensorflow.keras.preprocessing.sequence import pad_sequences\n",
    "from tensorflow.keras.models import Sequential\n",
    "from tensorflow.keras.preprocessing.text import Tokenizer\n",
    "from tensorflow.keras.layers import (Activation, Dropout, Dense, Embedding, Flatten, GlobalMaxPooling1D)\n",
    "import tensorflow_hub as hub\n",
    "from sklearn.model_selection import train_test_split\n",
    "from sklearn.preprocessing import LabelEncoder\n",
    "\n",
    "import os, string, gc\n",
    "from tqdm import tqdm\n",
    "import tldextract as tld\n",
    "\n",
    "\n",
    "from wordcloud import WordCloud\n",
    "import matplotlib.pyplot as plt\n",
    "%matplotlib inline"
   ]
  },
  {
   "cell_type": "code",
   "execution_count": 2,
   "metadata": {},
   "outputs": [
    {
     "name": "stdout",
     "output_type": "stream",
     "text": [
      "2.0.0\n",
      "Num GPUs Available:  1\n"
     ]
    }
   ],
   "source": [
    "%timeit\n",
    "print(tf.__version__)\n",
    "print(\"Num GPUs Available: \", len(tf.config.experimental.list_physical_devices('GPU')))"
   ]
  },
  {
   "cell_type": "code",
   "execution_count": 3,
   "metadata": {},
   "outputs": [],
   "source": [
    "path = '/media/moh/abunayla/Disaster_Tweets/Notebooks/data/'\n",
    "features = ['keyword', 'location', 'text']"
   ]
  },
  {
   "cell_type": "code",
   "execution_count": 4,
   "metadata": {},
   "outputs": [],
   "source": [
    "full_df = pd.read_csv(path + 'train.csv')\n",
    "\n",
    "train = pd.read_csv(path + 'train.csv', usecols = features)\n",
    "\n",
    "test = pd.read_csv(path + 'test.csv', usecols = features)\n",
    "\n",
    "samsub = pd.read_csv(path +'sample_submission.csv')\n",
    "\n",
    "Y =  pd.read_csv(path +'train.csv', usecols = ['target'])"
   ]
  },
  {
   "cell_type": "code",
   "execution_count": 5,
   "metadata": {},
   "outputs": [],
   "source": [
    "def extract_keywords(text, start_with_char='#'):\n",
    "    \"\"\"\n",
    "    Take in string.\n",
    "    Extracts words start with certain chars.\n",
    "    Removes punctiouations\n",
    "    Returns extracted words that are longer than 3 chars.\n",
    "    \"\"\"\n",
    "    words=[]\n",
    "    words.append([word.translate(str.maketrans('', '', string.punctuation)) for word in text.split() if word.startswith(start_with_char) and len(word)>3 ])\n",
    "    \n",
    "    return words"
   ]
  },
  {
   "cell_type": "code",
   "execution_count": 14,
   "metadata": {},
   "outputs": [],
   "source": [
    "def fix_url_type_spaces(text):\n",
    "    \"\"\"switch %20 from text with empty space\"\"\"\n",
    "    return text.replace('%20', ' ')"
   ]
  },
  {
   "cell_type": "code",
   "execution_count": 15,
   "metadata": {},
   "outputs": [],
   "source": [
    "def ext_subdomains(column):\n",
    "    \"\"\"\n",
    "    intent: extracts subdomains from urls by using tldextract lib\n",
    "    accepts: a dataframe column/pandas series of urls.\n",
    "    returns: a list of extracted subdomains.\n",
    "    \"\"\"\n",
    "    subdomains = []\n",
    "    for c in column:\n",
    "        subdomains.append(tld.extract(c).subdomain)\n",
    "    return subdomains"
   ]
  },
  {
   "cell_type": "code",
   "execution_count": 16,
   "metadata": {},
   "outputs": [],
   "source": [
    "domains = ext_subdomains('M1.94 [01:04 UTC]?5km S of Volcano Hawaii. http://t.co/zDtoyd8EbJ')"
   ]
  },
  {
   "cell_type": "code",
   "execution_count": 18,
   "metadata": {},
   "outputs": [
    {
     "data": {
      "text/plain": [
       "'M1'"
      ]
     },
     "execution_count": 18,
     "metadata": {},
     "output_type": "execute_result"
    }
   ],
   "source": [
    "tld.extract('M1.94 [01:04 UTC]?5km S of Volcano Hawaii. http://t.co/zDtoyd8EbJ').subdomain"
   ]
  },
  {
   "cell_type": "code",
   "execution_count": null,
   "metadata": {},
   "outputs": [],
   "source": []
  }
 ],
 "metadata": {
  "kernelspec": {
   "display_name": "Python 3",
   "language": "python",
   "name": "python3"
  },
  "language_info": {
   "codemirror_mode": {
    "name": "ipython",
    "version": 3
   },
   "file_extension": ".py",
   "mimetype": "text/x-python",
   "name": "python",
   "nbconvert_exporter": "python",
   "pygments_lexer": "ipython3",
   "version": "3.7.6"
  }
 },
 "nbformat": 4,
 "nbformat_minor": 4
}
